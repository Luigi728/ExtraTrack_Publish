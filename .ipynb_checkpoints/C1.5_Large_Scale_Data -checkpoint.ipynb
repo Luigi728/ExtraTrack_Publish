{
 "cells": [
  {
   "cell_type": "code",
   "execution_count": 1,
   "id": "460aa4fd-935e-46b2-8d09-f3d07edb3065",
   "metadata": {},
   "outputs": [],
   "source": [
    "import cartopy.crs as ccrs\n",
    "import cartopy.feature as cfeature\n",
    "from cartopy.mpl.gridliner import LATITUDE_FORMATTER, LONGITUDE_FORMATTER\n",
    "import cftime\n",
    "import datetime\n",
    "from datetime import date\n",
    "from matplotlib import pyplot\n",
    "from matplotlib import colors\n",
    "from matplotlib import font_manager\n",
    "from matplotlib.cm import ScalarMappable\n",
    "import matplotlib.colors as mcolors\n",
    "import matplotlib.dates as mdates\n",
    "import matplotlib.gridspec as gridspec\n",
    "import matplotlib.lines as mlines\n",
    "import matplotlib.patches as mpatches\n",
    "import matplotlib.ticker as mticker\n",
    "import numpy\n",
    "import pandas\n",
    "from PIL import Image\n",
    "import random\n",
    "import xarray as xr"
   ]
  },
  {
   "cell_type": "code",
   "execution_count": 2,
   "id": "510faee9-64bf-401a-b4b1-d7b31fdab60f",
   "metadata": {},
   "outputs": [],
   "source": [
    "# Define Directories\n",
    "Diri = '/glade/u/home/whimkao//ExtraTrack/ExtraTrack_Publish/Storm_Tracking/'\n",
    "Output_Diri = '/glade/u/home/whimkao//ExtraTrack/ExtraTrack_Publish/Large_Scale_Data/'\n",
    "#Output_Diri = '/glade/derecho/scratch/whimkao/Large_Scale_Data/'"
   ]
  },
  {
   "cell_type": "code",
   "execution_count": 3,
   "id": "e31d3afb-ad9e-496a-b7cf-3b730a2a2c27",
   "metadata": {},
   "outputs": [],
   "source": [
    "# Open File\n",
    "def Open_File(File):\n",
    "    DF = pandas.read_csv(File)\n",
    "    DF = DF.drop(\"Unnamed: 0\", axis=1)\n",
    "    return (DF)"
   ]
  },
  {
   "cell_type": "code",
   "execution_count": 4,
   "id": "b89828f9-ad21-4018-aca8-3892b619bc39",
   "metadata": {},
   "outputs": [],
   "source": [
    "# Open Each File\n",
    "def Files_Open(Model, Diri, Subset):\n",
    "    Data_DF = Open_File(Diri+Model+'_Data_'+Subset+'_Output.csv')\n",
    "    ET_DF = Open_File(Diri+Model+'_ET_'+Subset+'_Output.csv')\n",
    "    Codes_DF = Open_File(Diri+Model+'_Codes_Output.csv')\n",
    "# Edit Time Format\n",
    "    Time, Begin_Time, Compl_Time, Trop_Peak_Time, Peak_Time, Birth_Time = [], [], [], [], [], []\n",
    "    for i in range(len(Data_DF)):\n",
    "        Time.append(Datetime(Data_DF[\"Time(Z)\"][i]))\n",
    "    for j in range(len(ET_DF)):\n",
    "        Begin_Time.append(Datetime(ET_DF[\"ET Begin Time\"][j]))\n",
    "        Compl_Time.append(Datetime(ET_DF[\"ET Complete Time\"][j]))\n",
    "        Trop_Peak_Time.append(Datetime(ET_DF[\"Trop Peak Time\"][j]))\n",
    "        Peak_Time.append(Datetime(ET_DF[\"Peak Time\"][j]))\n",
    "        Birth_Time.append(Datetime(ET_DF[\"Genesis Time\"][j]))\n",
    "    Data_DF[\"Time(Z)\"] = Time\n",
    "    ET_DF[\"ET Begin Time\"] = Begin_Time\n",
    "    ET_DF[\"ET Complete Time\"] = Compl_Time\n",
    "    ET_DF[\"Trop Peak Time\"] = Trop_Peak_Time\n",
    "    ET_DF[\"Peak Time\"] = Peak_Time\n",
    "    ET_DF[\"Genesis Time\"] = Birth_Time\n",
    "    return (Data_DF, ET_DF, Codes_DF)"
   ]
  },
  {
   "cell_type": "code",
   "execution_count": 5,
   "id": "30e0bae7-878f-4de9-bb6d-99f77ea13cbf",
   "metadata": {},
   "outputs": [],
   "source": [
    "# Edit Time Format\n",
    "def Datetime(Time):\n",
    "    try:\n",
    "        New_Time = datetime.datetime.strptime(Time, '%Y-%m-%d %H:%M:%S')\n",
    "    except:\n",
    "        New_Time = numpy.nan\n",
    "    return (New_Time)"
   ]
  },
  {
   "cell_type": "code",
   "execution_count": 6,
   "id": "57222253-5f2d-456f-99be-509a1fe6a34a",
   "metadata": {},
   "outputs": [],
   "source": [
    "# Create Phase Distribution Bins\n",
    "def Create_Bins(Min, Max, Bin_Width):\n",
    "    Bins = numpy.arange(Min, Max+Bin_Width, Bin_Width)\n",
    "    return (Bins)\n",
    "Lat_Bins = Create_Bins(10,60,5)\n",
    "Lon_Bins = Create_Bins(-100,20,5)"
   ]
  },
  {
   "cell_type": "code",
   "execution_count": 7,
   "id": "037243d8-c76d-4468-90d8-c979463ec7f8",
   "metadata": {},
   "outputs": [],
   "source": [
    "# Number of Years For Each Climate Scenario\n",
    "Num_Years = numpy.array([90,93,93])"
   ]
  },
  {
   "cell_type": "code",
   "execution_count": 8,
   "id": "3e7acd40-649f-4498-8041-424c5a977bb2",
   "metadata": {},
   "outputs": [],
   "source": [
    "# Function to Find Distance Between Two Points\n",
    "def Find_Distance(y1, y2, x1, x2):\n",
    "    Start_Lat = y1 * numpy.pi / 180\n",
    "    End_Lat = y2 * numpy.pi / 180\n",
    "    Start_Lon = x1 * numpy.pi / 180\n",
    "    End_Lon = x2 * numpy.pi / 180\n",
    "    Lat_Diff = End_Lat - Start_Lat\n",
    "    Lon_Diff = End_Lon - Start_Lon\n",
    "    Earth_Rad = 6378\n",
    "    Distance = 2 * Earth_Rad * numpy.sqrt((numpy.sin(Lat_Diff/2))**2 + \\\n",
    "    numpy.cos(Start_Lat) * numpy.cos(End_Lat) * (numpy.sin(Lon_Diff/2))**2)\n",
    "    return (Distance)"
   ]
  },
  {
   "cell_type": "code",
   "execution_count": 9,
   "id": "e523463c-b90d-4bfb-bd36-d86a38bee3be",
   "metadata": {},
   "outputs": [],
   "source": [
    "# Find a Specific Storm Within the DataFrame\n",
    "def Find_Storm(DF, Code):\n",
    "    DF_Storm = DF[DF[\"Code\"] == Code].reset_index()\n",
    "    return (DF_Storm)"
   ]
  },
  {
   "cell_type": "code",
   "execution_count": 10,
   "id": "33b4ac8c-0f55-4b22-9fa7-892f71c66d0c",
   "metadata": {},
   "outputs": [],
   "source": [
    "# Open Files\n",
    "Control_Data, Control_ET, Control_Codes = Files_Open(\"Control\", Diri, \"SubsetB\")\n",
    "RCP45_Data, RCP45_ET, RCP45_Codes = Files_Open(\"RCP45\", Diri, \"SubsetB\")\n",
    "RCP85_Data, RCP85_ET, RCP85_Codes = Files_Open(\"RCP85\", Diri, \"SubsetB\")"
   ]
  },
  {
   "cell_type": "code",
   "execution_count": null,
   "id": "6ed77d58-3c22-4f5a-89de-755c844ca7d3",
   "metadata": {},
   "outputs": [],
   "source": []
  },
  {
   "cell_type": "code",
   "execution_count": null,
   "id": "cd57fdce-9d9e-4cbd-8503-3d3e6bb79c24",
   "metadata": {},
   "outputs": [],
   "source": []
  },
  {
   "cell_type": "code",
   "execution_count": null,
   "id": "346d8c0b-1d23-4360-b449-5aea391f1934",
   "metadata": {},
   "outputs": [],
   "source": []
  },
  {
   "cell_type": "code",
   "execution_count": 11,
   "id": "ca016e27-ac64-4035-9af3-8463e357aa8d",
   "metadata": {},
   "outputs": [],
   "source": [
    "# Create List of Monthly File Names\n",
    "def Monthly_File_Names(Model, Years, Months, File_Names):\n",
    "    for j in range(12):\n",
    "        for i in range(len(Years)):\n",
    "            File_Name = Model + '/' + Model + '.cam.h0.' + str(Years[i]) + '-' + str(Months[j]) + '.nc_regrid.nc'\n",
    "            File_Names[j].append(File_Name)\n",
    "    return (File_Names)"
   ]
  },
  {
   "cell_type": "code",
   "execution_count": 12,
   "id": "af07ff51-2002-4db6-bf5d-feaa81905699",
   "metadata": {},
   "outputs": [],
   "source": [
    "# List of Years For Each Climate Scenario\n",
    "Control_Years = Create_Bins(1985,2014,1)\n",
    "RCP45_Years = Create_Bins(2069,2099,1)\n",
    "RCP85_Years = Create_Bins(2069,2099,1)\n",
    "Months = ['01','02','03','04','05','06','07','08','09','10','11','12']\n",
    "Months_Name = ['Jan', 'Feb', 'Mar', 'Apr', 'May', 'Jun', 'Jul', 'Aug', 'Sep', 'Oct', 'Nov', 'Dec']"
   ]
  },
  {
   "cell_type": "code",
   "execution_count": 13,
   "id": "89fc7496-bfeb-438c-a236-daecb5c61be8",
   "metadata": {},
   "outputs": [],
   "source": [
    "# Define File Names For Control\n",
    "Control_Monthly_Files = []\n",
    "for j in range(12):\n",
    "    Control_Monthly_Files.append([])\n",
    "Control_Monthly_Files = Monthly_File_Names('CHEY.VR28.NATL.REF.CAM5.4CLM5.0.dtime900.002', Control_Years, Months, Control_Monthly_Files)\n",
    "Control_Monthly_Files = Monthly_File_Names('CHEY.VR28.NATL.REF.CAM5.4CLM5.0.dtime900.004', Control_Years, Months, Control_Monthly_Files)\n",
    "Control_Monthly_Files = Monthly_File_Names('CHEY.VR28.NATL.REF.CAM5.4CLM5.0.dtime900', Control_Years, Months, Control_Monthly_Files)"
   ]
  },
  {
   "cell_type": "code",
   "execution_count": 14,
   "id": "c79cc815-3e26-404d-86a6-6d86d1864f18",
   "metadata": {},
   "outputs": [],
   "source": [
    "# Define File Names For RCP4.5\n",
    "RCP45_Monthly_Files = []\n",
    "for j in range(12):\n",
    "    RCP45_Monthly_Files.append([])\n",
    "RCP45_Monthly_Files = Monthly_File_Names('CHEY.RCP45.VR28.NATL.REF.CAM5.4CLM5.0.dtime900', RCP45_Years, Months, RCP45_Monthly_Files)\n",
    "RCP45_Monthly_Files = Monthly_File_Names('CHEY.RCP45.VR28.NATL.REF.CAM5.4CLM5.0.dtime900.002', RCP45_Years, Months, RCP45_Monthly_Files)\n",
    "RCP45_Monthly_Files = Monthly_File_Names('CHEY.RCP45.VR28.NATL.REF.CAM5.4CLM5.0.dtime900.003', RCP45_Years, Months, RCP45_Monthly_Files)"
   ]
  },
  {
   "cell_type": "code",
   "execution_count": 15,
   "id": "db21c614-97b4-4eab-99b1-5e8ae2b550a4",
   "metadata": {},
   "outputs": [],
   "source": [
    "# Define File Names For RCP8.5\n",
    "RCP85_Monthly_Files = []\n",
    "for j in range(12):\n",
    "    RCP85_Monthly_Files.append([])\n",
    "RCP85_Monthly_Files = Monthly_File_Names('CHEY.RCP85.VR28.NATL.REF.CAM5.4CLM5.0.dtime900', RCP85_Years, Months, RCP85_Monthly_Files)\n",
    "RCP85_Monthly_Files = Monthly_File_Names('CHEY.RCP85.VR28.NATL.REF.CAM5.4CLM5.0.dtime900.003', RCP85_Years, Months, RCP85_Monthly_Files)\n",
    "RCP85_Monthly_Files = Monthly_File_Names('CHEY.RCP85.VR28.NATL.REF.CAM5.4CLM5.0.dtime900.004', RCP85_Years, Months, RCP85_Monthly_Files)"
   ]
  },
  {
   "cell_type": "code",
   "execution_count": null,
   "id": "ff105503-0f0e-427f-9c6d-f51ea8b66119",
   "metadata": {},
   "outputs": [],
   "source": []
  },
  {
   "cell_type": "code",
   "execution_count": null,
   "id": "099d097b-96e6-4635-b161-a3174b991577",
   "metadata": {},
   "outputs": [],
   "source": []
  },
  {
   "cell_type": "code",
   "execution_count": null,
   "id": "e5ab4a17-9e23-4951-9ee6-6b8629ce8b97",
   "metadata": {},
   "outputs": [],
   "source": []
  },
  {
   "cell_type": "code",
   "execution_count": 16,
   "id": "98b90ed8-2852-4740-8dc5-e33007608349",
   "metadata": {},
   "outputs": [],
   "source": [
    "# Create Function to Open Monthly Files\n",
    "def Open_Monthly_File(File_Names, Vars):\n",
    "    Diri = '/glade/campaign/univ/upsu0032/Hyperion_ET/'\n",
    "    for i in range(len(File_Names)):\n",
    "        if Vars == \"All\":\n",
    "            Month_DS = xr.open_dataset(Diri + File_Names[i])\n",
    "        else:\n",
    "            Month_DS = xr.open_dataset(Diri + File_Names[i])[Vars]\n",
    "        Month_DS_New = Month_DS.where((Month_DS.lon >= -100) & (Month_DS.lon <= 0) & \\\n",
    "        (Month_DS.lat >= 0) & (Month_DS.lat <= 60), drop=True)\n",
    "# Edit Time Stamp To Make Sure Dates Don't Overlap\n",
    "        if i < (len(File_Names) / 3):\n",
    "            Month_DS_New['time'] = Month_DS_New['time'] - numpy.timedelta64(16,'D')\n",
    "        elif i < (len(File_Names) / 3 * 2):\n",
    "            Month_DS_New['time'] = Month_DS_New['time'] - numpy.timedelta64(10,'D')\n",
    "        else:\n",
    "            Month_DS_New['time'] = Month_DS_New['time'] - numpy.timedelta64(4,'D')\n",
    "# Combine Datasets\n",
    "        if i == 0:\n",
    "            Month_DS_Combine = Month_DS_New\n",
    "        else:\n",
    "            Month_DS_Combine = xr.concat([Month_DS_Combine, Month_DS_New], dim='time')\n",
    "        if i % 10 == 8:\n",
    "            print (i)\n",
    "# Calculate Mean Values Across Time\n",
    "    Month_DS_Mean = Month_DS_Combine.mean(dim='time')\n",
    "    return (Month_DS_Mean)"
   ]
  },
  {
   "cell_type": "code",
   "execution_count": null,
   "id": "3fa1c9d7-101b-42c7-afb4-fba828fef9d4",
   "metadata": {},
   "outputs": [],
   "source": []
  },
  {
   "cell_type": "code",
   "execution_count": null,
   "id": "9cb288bc-9ade-43f4-b94a-4eb4771073a1",
   "metadata": {},
   "outputs": [],
   "source": []
  },
  {
   "cell_type": "code",
   "execution_count": null,
   "id": "6fc97b6b-6e8e-49eb-86f8-7aa074591052",
   "metadata": {},
   "outputs": [],
   "source": []
  },
  {
   "cell_type": "code",
   "execution_count": 17,
   "id": "70cec87d-63c6-4803-8e91-6c8a8b70d004",
   "metadata": {},
   "outputs": [],
   "source": [
    "# Define Which Variables We Will Need\n",
    "Vars = ['T', 'TS', 'Z3', 'PSL', 'U', 'V', 'FLUT', 'TMQ', 'OMEGA', 'OCNFRAC']"
   ]
  },
  {
   "cell_type": "code",
   "execution_count": 18,
   "id": "79444bee-9037-4919-8a39-48053724d819",
   "metadata": {
    "scrolled": true
   },
   "outputs": [
    {
     "name": "stdout",
     "output_type": "stream",
     "text": [
      "8\n",
      "18\n",
      "28\n",
      "38\n",
      "48\n",
      "58\n",
      "68\n",
      "78\n",
      "88\n",
      "8\n",
      "18\n",
      "28\n",
      "38\n",
      "48\n",
      "58\n",
      "68\n",
      "78\n",
      "88\n",
      "8\n",
      "18\n",
      "28\n",
      "38\n",
      "48\n",
      "58\n",
      "68\n",
      "78\n",
      "88\n"
     ]
    }
   ],
   "source": [
    "# Open Files For Control (Jan - Mar)\n",
    "Control_DS_Jan = Open_Monthly_File(Control_Monthly_Files[0], Vars)\n",
    "Control_DS_Feb = Open_Monthly_File(Control_Monthly_Files[1], Vars)\n",
    "Control_DS_Mar = Open_Monthly_File(Control_Monthly_Files[2], Vars)"
   ]
  },
  {
   "cell_type": "code",
   "execution_count": 19,
   "id": "fb2dc766-b399-46a6-b625-b09058686216",
   "metadata": {
    "scrolled": true
   },
   "outputs": [
    {
     "name": "stdout",
     "output_type": "stream",
     "text": [
      "8\n",
      "18\n",
      "28\n",
      "38\n",
      "48\n",
      "58\n",
      "68\n",
      "78\n",
      "88\n",
      "8\n",
      "18\n",
      "28\n",
      "38\n",
      "48\n",
      "58\n",
      "68\n",
      "78\n",
      "88\n",
      "8\n",
      "18\n",
      "28\n",
      "38\n",
      "48\n",
      "58\n",
      "68\n",
      "78\n",
      "88\n"
     ]
    }
   ],
   "source": [
    "# Open Files For Control (Apr - Jun)\n",
    "Control_DS_Apr = Open_Monthly_File(Control_Monthly_Files[3], Vars)\n",
    "Control_DS_May = Open_Monthly_File(Control_Monthly_Files[4], Vars)\n",
    "Control_DS_Jun = Open_Monthly_File(Control_Monthly_Files[5], Vars)"
   ]
  },
  {
   "cell_type": "code",
   "execution_count": 20,
   "id": "1eb46f42-183d-42d8-b3e1-1a6c16a7f9dc",
   "metadata": {
    "scrolled": true
   },
   "outputs": [
    {
     "name": "stdout",
     "output_type": "stream",
     "text": [
      "8\n",
      "18\n",
      "28\n",
      "38\n",
      "48\n",
      "58\n",
      "68\n",
      "78\n",
      "88\n",
      "8\n",
      "18\n",
      "28\n",
      "38\n",
      "48\n",
      "58\n",
      "68\n",
      "78\n",
      "88\n",
      "8\n",
      "18\n",
      "28\n",
      "38\n",
      "48\n",
      "58\n",
      "68\n",
      "78\n",
      "88\n"
     ]
    }
   ],
   "source": [
    "# Open Files For Control (Jul - Sep)\n",
    "Control_DS_Jul = Open_Monthly_File(Control_Monthly_Files[6], Vars)\n",
    "Control_DS_Aug = Open_Monthly_File(Control_Monthly_Files[7], Vars)\n",
    "Control_DS_Sep = Open_Monthly_File(Control_Monthly_Files[8], Vars)"
   ]
  },
  {
   "cell_type": "code",
   "execution_count": 21,
   "id": "07fa7f75-9c50-487b-82a8-2cb0116e7fb0",
   "metadata": {
    "scrolled": true
   },
   "outputs": [
    {
     "name": "stdout",
     "output_type": "stream",
     "text": [
      "8\n",
      "18\n",
      "28\n",
      "38\n",
      "48\n",
      "58\n",
      "68\n",
      "78\n",
      "88\n",
      "8\n",
      "18\n",
      "28\n",
      "38\n",
      "48\n",
      "58\n",
      "68\n",
      "78\n",
      "88\n",
      "8\n",
      "18\n",
      "28\n",
      "38\n",
      "48\n",
      "58\n",
      "68\n",
      "78\n",
      "88\n"
     ]
    }
   ],
   "source": [
    "# Open Files For Control (Oct - Dec)\n",
    "Control_DS_Oct = Open_Monthly_File(Control_Monthly_Files[9], Vars)\n",
    "Control_DS_Nov = Open_Monthly_File(Control_Monthly_Files[10], Vars)\n",
    "Control_DS_Dec = Open_Monthly_File(Control_Monthly_Files[11], Vars)"
   ]
  },
  {
   "cell_type": "code",
   "execution_count": 22,
   "id": "9a208b26-5085-4a8b-9728-0d483c81e98a",
   "metadata": {
    "scrolled": true
   },
   "outputs": [
    {
     "name": "stdout",
     "output_type": "stream",
     "text": [
      "8\n",
      "18\n",
      "28\n",
      "38\n",
      "48\n",
      "58\n",
      "68\n",
      "78\n",
      "88\n",
      "8\n",
      "18\n",
      "28\n",
      "38\n",
      "48\n",
      "58\n",
      "68\n",
      "78\n",
      "88\n",
      "8\n",
      "18\n",
      "28\n",
      "38\n",
      "48\n",
      "58\n",
      "68\n",
      "78\n",
      "88\n"
     ]
    }
   ],
   "source": [
    "# Open Files For RCP4.5 (Jan - Mar)\n",
    "RCP45_DS_Jan = Open_Monthly_File(RCP45_Monthly_Files[0], Vars)\n",
    "RCP45_DS_Feb = Open_Monthly_File(RCP45_Monthly_Files[1], Vars)\n",
    "RCP45_DS_Mar = Open_Monthly_File(RCP45_Monthly_Files[2], Vars)"
   ]
  },
  {
   "cell_type": "code",
   "execution_count": 23,
   "id": "73284d7d-faeb-447a-801a-76041f1cc657",
   "metadata": {
    "scrolled": true
   },
   "outputs": [
    {
     "name": "stdout",
     "output_type": "stream",
     "text": [
      "8\n",
      "18\n",
      "28\n",
      "38\n",
      "48\n",
      "58\n",
      "68\n",
      "78\n",
      "88\n",
      "8\n",
      "18\n",
      "28\n",
      "38\n",
      "48\n",
      "58\n",
      "68\n",
      "78\n",
      "88\n",
      "8\n",
      "18\n",
      "28\n",
      "38\n",
      "48\n",
      "58\n",
      "68\n",
      "78\n",
      "88\n"
     ]
    }
   ],
   "source": [
    "# Open Files For RCP4.5 (Apr - Jun)\n",
    "RCP45_DS_Apr = Open_Monthly_File(RCP45_Monthly_Files[3], Vars)\n",
    "RCP45_DS_May = Open_Monthly_File(RCP45_Monthly_Files[4], Vars)\n",
    "RCP45_DS_Jun = Open_Monthly_File(RCP45_Monthly_Files[5], Vars)"
   ]
  },
  {
   "cell_type": "code",
   "execution_count": 24,
   "id": "63c5bf90-fec7-4909-8303-8d19f4ca1167",
   "metadata": {
    "scrolled": true
   },
   "outputs": [
    {
     "name": "stdout",
     "output_type": "stream",
     "text": [
      "8\n",
      "18\n",
      "28\n",
      "38\n",
      "48\n",
      "58\n",
      "68\n",
      "78\n",
      "88\n",
      "8\n",
      "18\n",
      "28\n",
      "38\n",
      "48\n",
      "58\n",
      "68\n",
      "78\n",
      "88\n",
      "8\n",
      "18\n",
      "28\n",
      "38\n",
      "48\n",
      "58\n",
      "68\n",
      "78\n",
      "88\n"
     ]
    }
   ],
   "source": [
    "# Open Files For RCP4.5 (Jul - Sep)\n",
    "RCP45_DS_Jul = Open_Monthly_File(RCP45_Monthly_Files[6], Vars)\n",
    "RCP45_DS_Aug = Open_Monthly_File(RCP45_Monthly_Files[7], Vars)\n",
    "RCP45_DS_Sep = Open_Monthly_File(RCP45_Monthly_Files[8], Vars)"
   ]
  },
  {
   "cell_type": "code",
   "execution_count": 25,
   "id": "96eee948-3412-4d0a-b81f-7807a1f18d21",
   "metadata": {
    "scrolled": true
   },
   "outputs": [
    {
     "name": "stdout",
     "output_type": "stream",
     "text": [
      "8\n",
      "18\n",
      "28\n",
      "38\n",
      "48\n",
      "58\n",
      "68\n",
      "78\n",
      "88\n",
      "8\n",
      "18\n",
      "28\n",
      "38\n",
      "48\n",
      "58\n",
      "68\n",
      "78\n",
      "88\n",
      "8\n",
      "18\n",
      "28\n",
      "38\n",
      "48\n",
      "58\n",
      "68\n",
      "78\n",
      "88\n"
     ]
    }
   ],
   "source": [
    "# Open Files For RCP4.5 (Oct - Dec)\n",
    "RCP45_DS_Oct = Open_Monthly_File(RCP45_Monthly_Files[9], Vars)\n",
    "RCP45_DS_Nov = Open_Monthly_File(RCP45_Monthly_Files[10], Vars)\n",
    "RCP45_DS_Dec = Open_Monthly_File(RCP45_Monthly_Files[11], Vars)"
   ]
  },
  {
   "cell_type": "code",
   "execution_count": 26,
   "id": "0db9422d-e05a-49e2-8d34-8d8cba486071",
   "metadata": {
    "scrolled": true
   },
   "outputs": [
    {
     "name": "stdout",
     "output_type": "stream",
     "text": [
      "8\n",
      "18\n",
      "28\n",
      "38\n",
      "48\n",
      "58\n",
      "68\n",
      "78\n",
      "88\n",
      "8\n",
      "18\n",
      "28\n",
      "38\n",
      "48\n",
      "58\n",
      "68\n",
      "78\n",
      "88\n",
      "8\n",
      "18\n",
      "28\n",
      "38\n",
      "48\n",
      "58\n",
      "68\n",
      "78\n",
      "88\n"
     ]
    }
   ],
   "source": [
    "# Open Files For RCP8.5 (Jan - Mar)\n",
    "RCP85_DS_Jan = Open_Monthly_File(RCP85_Monthly_Files[0], Vars)\n",
    "RCP85_DS_Feb = Open_Monthly_File(RCP85_Monthly_Files[1], Vars)\n",
    "RCP85_DS_Mar = Open_Monthly_File(RCP85_Monthly_Files[2], Vars)"
   ]
  },
  {
   "cell_type": "code",
   "execution_count": 27,
   "id": "5a278f2c-7c8a-4f45-a07c-b172333f13e4",
   "metadata": {},
   "outputs": [
    {
     "name": "stdout",
     "output_type": "stream",
     "text": [
      "8\n",
      "18\n",
      "28\n",
      "38\n",
      "48\n",
      "58\n",
      "68\n",
      "78\n",
      "88\n",
      "8\n",
      "18\n",
      "28\n",
      "38\n",
      "48\n",
      "58\n",
      "68\n",
      "78\n",
      "88\n",
      "8\n",
      "18\n",
      "28\n",
      "38\n",
      "48\n",
      "58\n",
      "68\n",
      "78\n",
      "88\n"
     ]
    }
   ],
   "source": [
    "# Open Files For RCP8.5 (Apr - Jun)\n",
    "RCP85_DS_Apr = Open_Monthly_File(RCP85_Monthly_Files[3], Vars)\n",
    "RCP85_DS_May = Open_Monthly_File(RCP85_Monthly_Files[4], Vars)\n",
    "RCP85_DS_Jun = Open_Monthly_File(RCP85_Monthly_Files[5], Vars)"
   ]
  },
  {
   "cell_type": "code",
   "execution_count": 28,
   "id": "12ef283e-222e-47e6-a095-5d3562006227",
   "metadata": {
    "scrolled": true
   },
   "outputs": [
    {
     "name": "stdout",
     "output_type": "stream",
     "text": [
      "8\n",
      "18\n",
      "28\n",
      "38\n",
      "48\n",
      "58\n",
      "68\n",
      "78\n",
      "88\n",
      "8\n",
      "18\n",
      "28\n",
      "38\n",
      "48\n",
      "58\n",
      "68\n",
      "78\n",
      "88\n",
      "8\n",
      "18\n",
      "28\n",
      "38\n",
      "48\n",
      "58\n",
      "68\n",
      "78\n",
      "88\n"
     ]
    }
   ],
   "source": [
    "# Open Files For RCP8.5 (Jul - Sep)\n",
    "RCP85_DS_Jul = Open_Monthly_File(RCP85_Monthly_Files[6], Vars)\n",
    "RCP85_DS_Aug = Open_Monthly_File(RCP85_Monthly_Files[7], Vars)\n",
    "RCP85_DS_Sep = Open_Monthly_File(RCP85_Monthly_Files[8], Vars)"
   ]
  },
  {
   "cell_type": "code",
   "execution_count": 29,
   "id": "2648b304-6eeb-42f9-84af-0d1c9ceadd79",
   "metadata": {
    "scrolled": true
   },
   "outputs": [
    {
     "name": "stdout",
     "output_type": "stream",
     "text": [
      "8\n",
      "18\n",
      "28\n",
      "38\n",
      "48\n",
      "58\n",
      "68\n",
      "78\n",
      "88\n",
      "8\n",
      "18\n",
      "28\n",
      "38\n",
      "48\n",
      "58\n",
      "68\n",
      "78\n",
      "88\n",
      "8\n",
      "18\n",
      "28\n",
      "38\n",
      "48\n",
      "58\n",
      "68\n",
      "78\n",
      "88\n"
     ]
    }
   ],
   "source": [
    "# Open Files For RCP8.5 (Oct - Dec)\n",
    "RCP85_DS_Oct = Open_Monthly_File(RCP85_Monthly_Files[9], Vars)\n",
    "RCP85_DS_Nov = Open_Monthly_File(RCP85_Monthly_Files[10], Vars)\n",
    "RCP85_DS_Dec = Open_Monthly_File(RCP85_Monthly_Files[11], Vars)"
   ]
  },
  {
   "cell_type": "code",
   "execution_count": 30,
   "id": "deedd665-bb91-46dc-8572-6cf07c12d054",
   "metadata": {},
   "outputs": [],
   "source": [
    "# Create Dictionaries to Store Datasets\n",
    "Control_DS_Dict = {\"Jan\": Control_DS_Jan, \"Feb\": Control_DS_Feb, \"Mar\": Control_DS_Mar, \\\n",
    "\"Apr\": Control_DS_Apr, \"May\": Control_DS_May, \"Jun\": Control_DS_Jun, \\\n",
    "\"Jul\": Control_DS_Jul, \"Aug\": Control_DS_Aug, \"Sep\": Control_DS_Sep, \\\n",
    "\"Oct\": Control_DS_Oct, \"Nov\": Control_DS_Nov, \"Dec\": Control_DS_Dec}\n",
    "RCP45_DS_Dict = {\"Jan\": RCP45_DS_Jan, \"Feb\": RCP45_DS_Feb, \"Mar\": RCP45_DS_Mar, \\\n",
    "\"Apr\": RCP45_DS_Apr, \"May\": RCP45_DS_May, \"Jun\": RCP45_DS_Jun, \\\n",
    "\"Jul\": RCP45_DS_Jul, \"Aug\": RCP45_DS_Aug, \"Sep\": RCP45_DS_Sep, \\\n",
    "\"Oct\": RCP45_DS_Oct, \"Nov\": RCP45_DS_Nov, \"Dec\": RCP45_DS_Dec}\n",
    "RCP85_DS_Dict = {\"Jan\": RCP85_DS_Jan, \"Feb\": RCP85_DS_Feb, \"Mar\": RCP85_DS_Mar, \\\n",
    "\"Apr\": RCP85_DS_Apr, \"May\": RCP85_DS_May, \"Jun\": RCP85_DS_Jun, \\\n",
    "\"Jul\": RCP85_DS_Jul, \"Aug\": RCP85_DS_Aug, \"Sep\": RCP85_DS_Sep, \\\n",
    "\"Oct\": RCP85_DS_Oct, \"Nov\": RCP85_DS_Nov, \"Dec\": RCP85_DS_Dec}"
   ]
  },
  {
   "cell_type": "code",
   "execution_count": null,
   "id": "a02429e1-68c4-463d-beae-db730c9ee9bd",
   "metadata": {},
   "outputs": [],
   "source": []
  },
  {
   "cell_type": "code",
   "execution_count": null,
   "id": "21c054db-2500-4f16-94c4-f8becc035602",
   "metadata": {},
   "outputs": [],
   "source": []
  },
  {
   "cell_type": "code",
   "execution_count": null,
   "id": "8358a765-abc8-4e5e-8c32-c1f54e0d02a5",
   "metadata": {},
   "outputs": [],
   "source": []
  },
  {
   "cell_type": "code",
   "execution_count": 31,
   "id": "5ad78fca-16fc-40cb-9fc1-9287a05b4830",
   "metadata": {},
   "outputs": [],
   "source": [
    "# Combine Monthly Files Based on Seasons (Summer, Fall, Winter-Spring)\n",
    "def Combine_Monthly_Files(DS_Dict):\n",
    "    DS_Dict['Jun-Aug'] = xr.concat([DS_Dict['Jun'], DS_Dict['Jul'], DS_Dict['Aug']], dim='time').mean(dim='time')\n",
    "    print (\"1\")\n",
    "    DS_Dict['Sep-Nov'] = xr.concat([DS_Dict['Sep'], DS_Dict['Oct'], DS_Dict['Nov']], dim='time').mean(dim='time')\n",
    "    print (\"2\")\n",
    "    DS_Dict['Dec-May'] = xr.concat([DS_Dict['Dec'], DS_Dict['Jan'], DS_Dict['Feb'], \\\n",
    "    DS_Dict['Mar'], DS_Dict['Apr'], DS_Dict['May']], dim='time').mean(dim='time')\n",
    "    print (\"3\")\n",
    "    DS_Dict['Annual'] = xr.concat([DS_Dict['Dec-May'], DS_Dict['Jun-Aug'], DS_Dict['Sep-Nov']], dim='time').mean(dim='time')\n",
    "    print (\"4\")\n",
    "    return (DS_Dict)"
   ]
  },
  {
   "cell_type": "code",
   "execution_count": 32,
   "id": "75114535-b156-4bd7-8369-408a129006e4",
   "metadata": {},
   "outputs": [
    {
     "name": "stdout",
     "output_type": "stream",
     "text": [
      "1\n",
      "2\n",
      "3\n",
      "4\n"
     ]
    }
   ],
   "source": [
    "# Combine Monthly Files For Control\n",
    "Control_DS_Dict = Combine_Monthly_Files(Control_DS_Dict)"
   ]
  },
  {
   "cell_type": "code",
   "execution_count": 33,
   "id": "51328ba5-43cd-4750-adc0-994a21f83eff",
   "metadata": {},
   "outputs": [
    {
     "name": "stdout",
     "output_type": "stream",
     "text": [
      "1\n",
      "2\n",
      "3\n",
      "4\n"
     ]
    }
   ],
   "source": [
    "# Combine Monthly Files For RCP4.5\n",
    "RCP45_DS_Dict = Combine_Monthly_Files(RCP45_DS_Dict)"
   ]
  },
  {
   "cell_type": "code",
   "execution_count": 34,
   "id": "48a414e7-2507-4fac-8f0d-4e07ba3a9fdd",
   "metadata": {},
   "outputs": [
    {
     "name": "stdout",
     "output_type": "stream",
     "text": [
      "1\n",
      "2\n",
      "3\n",
      "4\n"
     ]
    }
   ],
   "source": [
    "# Combine Monthly Files For RCP8.5\n",
    "RCP85_DS_Dict = Combine_Monthly_Files(RCP85_DS_Dict)"
   ]
  },
  {
   "cell_type": "code",
   "execution_count": null,
   "id": "a9f7a2c5-c0c8-4454-9904-c2683203ad13",
   "metadata": {},
   "outputs": [],
   "source": []
  },
  {
   "cell_type": "code",
   "execution_count": null,
   "id": "bdf28ab9-f609-4fed-aba8-33d70bdeaa43",
   "metadata": {},
   "outputs": [],
   "source": []
  },
  {
   "cell_type": "code",
   "execution_count": null,
   "id": "d834152c-1dd6-4ec6-84d3-97dff38126bf",
   "metadata": {},
   "outputs": [],
   "source": []
  },
  {
   "cell_type": "code",
   "execution_count": 35,
   "id": "3e0853a3-6bf9-47d5-b434-839aab3e436a",
   "metadata": {},
   "outputs": [],
   "source": [
    "# Months Name\n",
    "Months_Name = ['Jan', 'Feb', 'Mar', 'Apr', 'May', 'Jun', 'Jul', 'Aug', 'Sep', 'Oct', 'Nov', 'Dec', 'Jun-Aug', 'Sep-Nov', 'Dec-May', 'Annual']"
   ]
  },
  {
   "cell_type": "code",
   "execution_count": 36,
   "id": "6f525d22-96b6-4839-ba41-d373ff3e2e51",
   "metadata": {},
   "outputs": [],
   "source": [
    "# Output DS to netCDF File\n",
    "def Output_DS(DS, Model, Month):\n",
    "    File_Name = str(Model+'_Output_'+Month+'.nc')\n",
    "    DS.to_netcdf(Output_Diri+File_Name)"
   ]
  },
  {
   "cell_type": "code",
   "execution_count": 37,
   "id": "948c57c3-4722-4421-9ad9-ee0ecb86620f",
   "metadata": {
    "scrolled": true
   },
   "outputs": [
    {
     "name": "stdout",
     "output_type": "stream",
     "text": [
      "0\n",
      "1\n",
      "2\n",
      "3\n",
      "4\n",
      "5\n",
      "6\n",
      "7\n",
      "8\n",
      "9\n",
      "10\n",
      "11\n",
      "12\n",
      "13\n",
      "14\n",
      "15\n"
     ]
    }
   ],
   "source": [
    "# Output Control Files For Each Month\n",
    "for i in range(16):\n",
    "    DS = Control_DS_Dict[Months_Name[i]]\n",
    "    Output_DS(DS, \"Control\", Months_Name[i])\n",
    "    print (i)"
   ]
  },
  {
   "cell_type": "code",
   "execution_count": 38,
   "id": "f5bd1d55-a35c-4e42-946b-83aa0a23aa65",
   "metadata": {},
   "outputs": [
    {
     "name": "stdout",
     "output_type": "stream",
     "text": [
      "0\n",
      "1\n",
      "2\n",
      "3\n",
      "4\n",
      "5\n",
      "6\n",
      "7\n",
      "8\n",
      "9\n",
      "10\n",
      "11\n",
      "12\n",
      "13\n",
      "14\n",
      "15\n"
     ]
    }
   ],
   "source": [
    "# Output RCP4.5 Files For Each Month\n",
    "for i in range(16):\n",
    "    DS = RCP45_DS_Dict[Months_Name[i]]\n",
    "    Output_DS(DS, \"RCP45\", Months_Name[i])\n",
    "    print (i)"
   ]
  },
  {
   "cell_type": "code",
   "execution_count": 39,
   "id": "b45f4ed7-3c67-48c7-a13d-51145c112484",
   "metadata": {},
   "outputs": [
    {
     "name": "stdout",
     "output_type": "stream",
     "text": [
      "0\n",
      "1\n",
      "2\n",
      "3\n",
      "4\n",
      "5\n",
      "6\n",
      "7\n",
      "8\n",
      "9\n",
      "10\n",
      "11\n",
      "12\n",
      "13\n",
      "14\n",
      "15\n"
     ]
    }
   ],
   "source": [
    "# Output RCP8.5 Files For Each Month\n",
    "for i in range(16):\n",
    "    DS = RCP85_DS_Dict[Months_Name[i]]\n",
    "    Output_DS(DS, \"RCP85\", Months_Name[i])\n",
    "    print (i)"
   ]
  },
  {
   "cell_type": "code",
   "execution_count": null,
   "id": "2aa7eab8-adb2-41a4-a293-47f9a94f456b",
   "metadata": {},
   "outputs": [],
   "source": []
  },
  {
   "cell_type": "code",
   "execution_count": 40,
   "id": "19c82dcc-1152-4a15-9f67-e0f41440e9e5",
   "metadata": {},
   "outputs": [],
   "source": [
    "Output_DS(Control_DS_Jan, 'Control', 'Jan')"
   ]
  },
  {
   "cell_type": "code",
   "execution_count": null,
   "id": "a0fadbfb-90eb-47c8-8b63-a232dca333b5",
   "metadata": {},
   "outputs": [],
   "source": []
  }
 ],
 "metadata": {
  "kernelspec": {
   "display_name": "NPL 2023b",
   "language": "python",
   "name": "npl-2023b"
  },
  "language_info": {
   "codemirror_mode": {
    "name": "ipython",
    "version": 3
   },
   "file_extension": ".py",
   "mimetype": "text/x-python",
   "name": "python",
   "nbconvert_exporter": "python",
   "pygments_lexer": "ipython3",
   "version": "3.10.12"
  }
 },
 "nbformat": 4,
 "nbformat_minor": 5
}
